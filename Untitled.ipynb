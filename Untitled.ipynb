{
 "cells": [
  {
   "cell_type": "code",
   "execution_count": 1,
   "id": "confidential-infection",
   "metadata": {},
   "outputs": [
    {
     "name": "stdin",
     "output_type": "stream",
     "text": [
      "enter your number: 123\n"
     ]
    },
    {
     "name": "stdout",
     "output_type": "stream",
     "text": [
      "6\n"
     ]
    }
   ],
   "source": [
    "i=0\n",
    "add=0\n",
    "numb=input(\"enter your number:\")\n",
    "\n",
    "for i in numb:\n",
    "    add+=int(i)\n",
    "   \n",
    "print(add)"
   ]
  },
  {
   "cell_type": "code",
   "execution_count": 2,
   "id": "earlier-sheep",
   "metadata": {},
   "outputs": [
    {
     "name": "stdin",
     "output_type": "stream",
     "text": [
      "Enter String :  faran\n"
     ]
    },
    {
     "name": "stdout",
     "output_type": "stream",
     "text": [
      "n na nar nara naraf "
     ]
    }
   ],
   "source": [
    "name = input(\"Enter String : \")\n",
    "size=len(name)\n",
    "count = -1\n",
    "ch=\"\"\n",
    "\n",
    "for i in range(0,size):\n",
    "    ch=ch+name[count]\n",
    "    print(ch,end =\" \")\n",
    "    count=count-1"
   ]
  },
  {
   "cell_type": "code",
   "execution_count": 3,
   "id": "incorporated-sleeve",
   "metadata": {},
   "outputs": [
    {
     "name": "stdin",
     "output_type": "stream",
     "text": [
      "Enter telephone number in 000-abc-abcd format: 21`3234\n"
     ]
    },
    {
     "name": "stdout",
     "output_type": "stream",
     "text": [
      "your phone number length is invalid\n"
     ]
    }
   ],
   "source": [
    "def convertNumber(ph):\n",
    "    ph=ph.upper()\n",
    "    phInDigit=\"\"\n",
    "    for i in range(0,len(ph)):\n",
    "        if(ph[i]=='A' or ph[i]=='B' or ph[i]=='C'):\n",
    "            phInDigit=phInDigit+\"2\"\n",
    "        elif(ph[i]=='D' or ph[i]=='E'or ph[i]=='F'):\n",
    "            phInDigit=phInDigit+\"3\"\n",
    "        elif(ph[i]=='G' or ph[i]=='H'or ph[i]=='I'):\n",
    "            phInDigit=phInDigit+\"4\"\n",
    "        elif(ph[i]=='J' or ph[i]=='K'or ph[i]=='L'):\n",
    "            phInDigit=phInDigit+\"5\"\n",
    "        elif(ph[i]=='M' or ph[i]=='N'or ph[i]=='O'):\n",
    "            phInDigit=phInDigit+\"6\"\n",
    "        elif(ph[i]=='P' or ph[i]=='Q'or ph[i]=='R'or ph[i]=='S'):\n",
    "            phInDigit=phInDigit+\"7\"\n",
    "        elif(ph[i]=='T' or ph[i]=='U'or ph[i]=='V'):\n",
    "            phInDigit=phInDigit+\"8\"\n",
    "        elif(ph[i]=='W' or ph[i]=='X'or ph[i]=='Y'or ph[i]=='Z'):\n",
    "            phInDigit=phInDigit+\"9\"\n",
    "        else:\n",
    "            phInDigit=phInDigit+ph[i]\n",
    "    return phInDigit\n",
    "\n",
    "ph=input(\"Enter telephone number in 000-abc-abcd format:\")\n",
    "\n",
    "if(len(ph)!=12):\n",
    "    print(\"your phone number length is invalid\")\n",
    "elif(ph[3]!='-' or ph[7]!='-'):\n",
    "    print(\"your format is invalid\")\n",
    "else:\n",
    "    phInDigits=convertNumber(ph)\n",
    "    print(\"Your Telephone number is :\",phInDigits)"
   ]
  },
  {
   "cell_type": "code",
   "execution_count": null,
   "id": "portuguese-relationship",
   "metadata": {},
   "outputs": [],
   "source": [
    "sentence=input(\"Enter a sentence : \")\n",
    "result=\"\"\n",
    "result=result+sentence[0].upper()\n",
    "for i in range(1,len(sentence)):\n",
    "    if((sentence[i-1]==\".\" or sentence[i-1]==\"?\"or sentence[i-1]==\"!\")and i<len(sentence)-1):\n",
    "        result=result+sentence[i].upper()\n",
    "    else:\n",
    "        result=result+sentence[i]\n",
    "print(\"Your sentence :\",result)"
   ]
  }
 ],
 "metadata": {
  "kernelspec": {
   "display_name": "Python 3",
   "language": "python",
   "name": "python3"
  },
  "language_info": {
   "codemirror_mode": {
    "name": "ipython",
    "version": 3
   },
   "file_extension": ".py",
   "mimetype": "text/x-python",
   "name": "python",
   "nbconvert_exporter": "python",
   "pygments_lexer": "ipython3",
   "version": "3.7.8"
  }
 },
 "nbformat": 4,
 "nbformat_minor": 5
}
